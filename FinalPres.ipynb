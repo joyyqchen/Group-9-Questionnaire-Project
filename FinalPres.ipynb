{
 "metadata": {
  "name": "Group 9, Questionnaire Project"
 },
 "nbformat": 3,
 "nbformat_minor": 0,
 "worksheets": [
  {
   "cells": [
    {
     "cell_type": "heading",
     "level": 1,
     "metadata": {},
     "source": "<FONT COLOR=#0404B4>Findings: Benefits & Drawback Responses, Learning Styles, and Class Experience</font>"
    },
    {
     "cell_type": "markdown",
     "metadata": {},
     "source": "<font size=\"5\">\nJoy Chen | Brian Liou | Eric Tsai <br>\nGroup 9 <br>\nStatistics 157\n</font>"
    },
    {
     "cell_type": "heading",
     "level": 2,
     "metadata": {},
     "source": "Set-Up and Data Importing"
    },
    {
     "cell_type": "raw",
     "metadata": {},
     "source": "Import basic Python Libraries"
    },
    {
     "cell_type": "code",
     "collapsed": false,
     "input": "import os.path\nimport ConfigParser\nimport csv\nfrom IPython.display import Image",
     "language": "python",
     "metadata": {},
     "outputs": [],
     "prompt_number": 3
    },
    {
     "cell_type": "raw",
     "metadata": {},
     "source": "Import Gspread\n*Be sure to first install the gspread library on your virtual machine using: \n`sudo pip install gspread`"
    },
    {
     "cell_type": "code",
     "collapsed": false,
     "input": "import gspread",
     "language": "python",
     "metadata": {},
     "outputs": []
    },
    {
     "cell_type": "markdown",
     "metadata": {},
     "source": "Define take(n, iterable) which is a convenience function to limit the amount of output that you print. \nUseful when you have lots of data that will clutter up your screen!"
    },
    {
     "cell_type": "code",
     "collapsed": false,
     "input": "from itertools import islice\ndef take(n, iterable):\n    \"Return first n items of the iterable as a list\"\n    return list(islice(iterable, n))",
     "language": "python",
     "metadata": {},
     "outputs": []
    },
    {
     "cell_type": "markdown",
     "metadata": {},
     "source": "Read the username and password from the [google] section of the stat157.cfg config file from your virtual machine home directory."
    },
    {
     "cell_type": "code",
     "collapsed": false,
     "input": "home = os.path.expanduser(\"~\")\nconfigfile = os.path.join(home, 'stat157.cfg')\nconfig = ConfigParser.SafeConfigParser()\nconfig.read(configfile)\nusername = config.get('google', 'username')\npassword = config.get('google', 'password')\nprint username",
     "language": "python",
     "metadata": {},
     "outputs": []
    },
    {
     "cell_type": "markdown",
     "metadata": {},
     "source": "Read the docid of the Google Spreadsheet from the config file."
    },
    {
     "cell_type": "code",
     "collapsed": false,
     "input": "docid = config.get('questionnaire', 'docid')\nclient = gspread.login(username, password)\nspreadsheet = client.open_by_key(docid)\nworksheet = spreadsheet.get_worksheet(0)\nprint docid",
     "language": "python",
     "metadata": {},
     "outputs": []
    },
    {
     "cell_type": "markdown",
     "metadata": {},
     "source": "Add field names to this list to include the columns of interest from the Google Spreadsheet in the filtered data output. "
    },
    {
     "cell_type": "code",
     "collapsed": false,
     "input": "fieldnames = ['Timestamp','What is your learning style?','Classes Taken']\nprint fieldnames",
     "language": "python",
     "metadata": {},
     "outputs": []
    },
    {
     "cell_type": "markdown",
     "metadata": {},
     "source": "Read in ALL rows of data from the Google Spreadsheet, but filter out columns that are not listed in `fieldnames`."
    },
    {
     "cell_type": "code",
     "collapsed": false,
     "input": "filtered_data = []\nfor row in worksheet.get_all_records():\n    filtered_data.append({k:v for k,v in row.iteritems() if k in fieldnames})\nprint \"Number of rows: {}\".format(len(filtered_data))",
     "language": "python",
     "metadata": {},
     "outputs": []
    },
    {
     "cell_type": "heading",
     "level": 2,
     "metadata": {},
     "source": "Data Parsing and \"Cleaning\" Process"
    },
    {
     "cell_type": "heading",
     "level": 2,
     "metadata": {},
     "source": "Data Results"
    },
    {
     "cell_type": "markdown",
     "metadata": {},
     "source": "<h2>Visualizations</h2>\n<i><font size=\"4\">Note: All visualizations created using R</font></i>"
    },
    {
     "cell_type": "markdown",
     "metadata": {},
     "source": "&nbsp;&nbsp;&nbsp;&nbsp;<font size=\"4\"><b>Figure 1</b></font>\n<br>\n&nbsp;&nbsp;&nbsp;&nbsp;<font size=\"3\">Most frequently used words in responses for the question: <i>'What are the benefits and drawbacks to collaborative data science'</i></font>\n<br><br>\n&nbsp;&nbsp;&nbsp;&nbsp;<img src='https://github.com/joyyqchen/Group-9-Questionnaire-Project/raw/master/BenefitsDrawbacksWordle.png'/>"
    },
    {
     "cell_type": "markdown",
     "metadata": {},
     "source": "&nbsp;&nbsp;&nbsp;&nbsp;<font size=\"4\"><b>Figure 2</b></font>\n<br>\n&nbsp;&nbsp;&nbsp;&nbsp;<font size=\"3\">Distribution of scores for each learning style for the class. <br>\n&nbsp;&nbsp;&nbsp;&nbsp;Kinesthetic learning had the highest average score while Aural had the lowest average</font>\n<br><br>\n&nbsp;&nbsp;&nbsp;&nbsp;<img src='https://github.com/joyyqchen/Group-9-Questionnaire-Project/raw/master/LearningStyleHistograms.png'/>"
    },
    {
     "cell_type": "markdown",
     "metadata": {},
     "source": "&nbsp;&nbsp;&nbsp;&nbsp;\n<font size=\"4\"><b>Figure 3</b></font>\n<br>\n&nbsp;&nbsp;&nbsp;&nbsp;\n<font size=\"3\">\nThese two pie charts show that we have a large percentage of the class that can do basic data cleaning and visualizations via R.\n<br>\n&nbsp;&nbsp;&nbsp;&nbsp;\nHowever, there is a large deficit of programming and general computer science experience.</font>\n<br><br>\n&nbsp;&nbsp;&nbsp;&nbsp;<img src='https://github.com/joyyqchen/Group-9-Questionnaire-Project/raw/master/ProgrammingExperience.png'/>"
    },
    {
     "cell_type": "markdown",
     "metadata": {},
     "source": "<br>\n<br>\n<br>\n<br>\n<P align=right> Statistics 157 Questionnaire Data Wrangling Project | October 7, 2013"
    }
   ],
   "metadata": {}
  }
 ]
}